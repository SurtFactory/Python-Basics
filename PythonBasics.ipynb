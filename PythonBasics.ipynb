{
  "nbformat": 4,
  "nbformat_minor": 0,
  "metadata": {
    "colab": {
      "name": "PythonBasics.ipynb",
      "provenance": [],
      "authorship_tag": "ABX9TyO7CD0r1v220gD7Aq69zpkj",
      "include_colab_link": true
    },
    "kernelspec": {
      "name": "python3",
      "display_name": "Python 3"
    },
    "language_info": {
      "name": "python"
    }
  },
  "cells": [
    {
      "cell_type": "markdown",
      "metadata": {
        "id": "view-in-github",
        "colab_type": "text"
      },
      "source": [
        "<a href=\"https://colab.research.google.com/github/SurtFactory/Python-Basics/blob/main/PythonBasics.ipynb\" target=\"_parent\"><img src=\"https://colab.research.google.com/assets/colab-badge.svg\" alt=\"Open In Colab\"/></a>"
      ]
    },
    {
      "cell_type": "code",
      "metadata": {
        "id": "1ek_pUYPqhz7",
        "colab": {
          "base_uri": "https://localhost:8080/"
        },
        "outputId": "4d873a37-9820-4c36-ff7b-525e2f92cb2f"
      },
      "source": [
        "pip install penngrader"
      ],
      "execution_count": null,
      "outputs": [
        {
          "output_type": "stream",
          "text": [
            "Collecting penngrader\n",
            "  Downloading https://files.pythonhosted.org/packages/f2/75/07b110a3bf5a5b1d6119fe1cbd970398c3136a3580c1b6461eab4b14d8f6/penngrader-0.4-py3-none-any.whl\n",
            "Installing collected packages: penngrader\n",
            "Successfully installed penngrader-0.4\n"
          ],
          "name": "stdout"
        }
      ]
    },
    {
      "cell_type": "markdown",
      "metadata": {
        "id": "2lW5nZSUqrwf"
      },
      "source": [
        "#First Program\n",
        "---\n",
        "Traditionally, the first program that anyone writes when learning a new programming language is Hello World. This is a simple program whose sole reason for existence is to print out the words \"Hello World\". Far be it from us to deviate from that tradition. However, we will use it to illustrate what we have learned about variable assignment in Python. \n",
        "\n",
        "Do the following:\n",
        "\n",
        "\n",
        "\n",
        "1.   Create a variable named x.\n",
        "2.   Assign x a value of 'Hello World' or \"Hello World\"\n",
        "3.   Write a line of code to print x.\n",
        "\n",
        "\n"
      ]
    },
    {
      "cell_type": "code",
      "metadata": {
        "id": "5BUMmmUPtykq"
      },
      "source": [
        ""
      ],
      "execution_count": null,
      "outputs": []
    }
  ]
}