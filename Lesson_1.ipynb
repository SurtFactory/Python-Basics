{
  "nbformat": 4,
  "nbformat_minor": 0,
  "metadata": {
    "colab": {
      "name": "Lesson_1.ipynb",
      "provenance": [],
      "collapsed_sections": [],
      "include_colab_link": true
    },
    "kernelspec": {
      "name": "python3",
      "display_name": "Python 3"
    },
    "language_info": {
      "name": "python"
    }
  },
  "cells": [
    {
      "cell_type": "markdown",
      "metadata": {
        "id": "view-in-github",
        "colab_type": "text"
      },
      "source": [
        "<a href=\"https://colab.research.google.com/github/SurtFactory/Python-Basics/blob/main/Lesson_1.ipynb\" target=\"_parent\"><img src=\"https://colab.research.google.com/assets/colab-badge.svg\" alt=\"Open In Colab\"/></a>"
      ]
    },
    {
      "cell_type": "markdown",
      "metadata": {
        "id": "2lW5nZSUqrwf"
      },
      "source": [
        "#First Program\n",
        "---\n",
        "Traditionally, the first program that anyone writes when learning a new programming language is Hello World. This is a simple program whose sole reason for existence is to print out the words \"Hello World\". Far be it from us to deviate from that tradition. However, we will use it to illustrate what we have learned about variable assignment in Python. \n",
        "\n",
        "Do the following:\n",
        "\n",
        "\n",
        "\n",
        "1.   Create a variable named x.\n",
        "2.   Assign x a value of 'Hello World' or \"Hello World\"\n",
        "3.   Write a line of code to print that variable x. \n",
        "\n",
        "     *Hint:* type print(x)\n",
        "\n",
        "\n"
      ]
    },
    {
      "cell_type": "code",
      "metadata": {
        "id": "5BUMmmUPtykq",
        "colab": {
          "base_uri": "https://localhost:8080/"
        },
        "outputId": "27556068-677f-4a22-bc7a-92b85a69f074"
      },
      "source": [
        "x = 'Hello world!'\n",
        "print(x)"
      ],
      "execution_count": null,
      "outputs": [
        {
          "output_type": "stream",
          "text": [
            "Hello world!\n"
          ],
          "name": "stdout"
        }
      ]
    },
    {
      "cell_type": "markdown",
      "metadata": {
        "id": "IytEaLRLCMoZ"
      },
      "source": [
        "Well done! You have just completed your first program! How does it feel?"
      ]
    },
    {
      "cell_type": "markdown",
      "metadata": {
        "id": "4Vx_8r6PDuDa"
      },
      "source": [
        "# Question 1\n",
        "write a program that asks the user for two numbers, adds them together, and outputs the result."
      ]
    },
    {
      "cell_type": "code",
      "metadata": {
        "id": "Xqx_33jqFt7W"
      },
      "source": [
        ""
      ],
      "execution_count": null,
      "outputs": []
    },
    {
      "cell_type": "markdown",
      "metadata": {
        "id": "e6dfDQc54a5b"
      },
      "source": [
        "# Question 2\n",
        "Write a Python program to display your details like name, age, address in three different lines."
      ]
    },
    {
      "cell_type": "code",
      "metadata": {
        "id": "4Y-vcS5a4ms5"
      },
      "source": [
        ""
      ],
      "execution_count": null,
      "outputs": []
    },
    {
      "cell_type": "markdown",
      "metadata": {
        "id": "J1pylXR7kUVD"
      },
      "source": [
        "# Question 3\n",
        "\n",
        "Write a program that asks for the user's name and surname and prints them backwards with a space between them"
      ]
    },
    {
      "cell_type": "code",
      "metadata": {
        "id": "10JGpcFRjCoR"
      },
      "source": [
        ""
      ],
      "execution_count": null,
      "outputs": []
    },
    {
      "cell_type": "markdown",
      "metadata": {
        "id": "Se-RB5woji4I"
      },
      "source": [
        "# Question 4\n",
        "Write a python program to calculate the area of a circle. The user should input the radius.\n",
        "\n",
        "*A* = πr²"
      ]
    },
    {
      "cell_type": "code",
      "metadata": {
        "id": "_eGvBCupkP2I"
      },
      "source": [
        ""
      ],
      "execution_count": null,
      "outputs": []
    },
    {
      "cell_type": "markdown",
      "metadata": {
        "id": "h2mkqwKqk96D"
      },
      "source": [
        "#Question 5\n",
        "Write a python program that calculates the lengths of the hypotenuse given the lengths of the two other sides of the triangle"
      ]
    },
    {
      "cell_type": "code",
      "metadata": {
        "id": "_CrNgSgElibC"
      },
      "source": [
        ""
      ],
      "execution_count": null,
      "outputs": []
    },
    {
      "cell_type": "markdown",
      "metadata": {
        "id": "xjAfv7KC40Yg"
      },
      "source": [
        "# Question 6\n",
        "Write a Python program to solve (x + y) * (x + y)\n",
        "\n",
        ">Test Data : x = 4, y = 3<br>\n",
        "Expected Output : (4 + 3) ^ 2) = 49"
      ]
    },
    {
      "cell_type": "code",
      "metadata": {
        "id": "TBEBiZG-5AF5"
      },
      "source": [
        ""
      ],
      "execution_count": null,
      "outputs": []
    },
    {
      "cell_type": "markdown",
      "metadata": {
        "id": "Pbm2RLGT5gzB"
      },
      "source": [
        "#Question 7\n",
        "Write a Python program to compute the distance between the points (x1, y1) and (x2, y2). \n",
        "\n",
        "If you're unsure how to do this, go to:\n",
        ">https://www.wikihow.com/Find-the-Distance-Between-Two-Points\n",
        "\n",
        "Test Data:\n",
        "> Point 1 = (2,2); Point 2 = (7,5)\n",
        "\n",
        "Expected Output:\n",
        "> 5.83 units \n",
        "\n",
        "NB: No need to worry about formatting the decimal places now - although you can use round() if you like."
      ]
    },
    {
      "cell_type": "code",
      "metadata": {
        "id": "G6MovwCH5vCp"
      },
      "source": [
        ""
      ],
      "execution_count": null,
      "outputs": []
    },
    {
      "cell_type": "markdown",
      "metadata": {
        "id": "Ld9dJnIQ99AH"
      },
      "source": [
        "# Question 8\n",
        "Write a Python program to convert a user's height (in feet and inches) to centimeters.\n",
        "\n",
        "NB: There are 12 inches in a foot. <br>\n",
        "    One inch = 2.54cm\n",
        "\n",
        "Test Data:\n",
        "> 6 Feet, 0 inches\n",
        "\n",
        "Expected Output:\n",
        "> 182cm\n"
      ]
    },
    {
      "cell_type": "code",
      "metadata": {
        "id": "wENE5bVL98VS"
      },
      "source": [
        ""
      ],
      "execution_count": null,
      "outputs": []
    },
    {
      "cell_type": "markdown",
      "metadata": {
        "id": "UkcAespR_im7"
      },
      "source": [
        "# Question 9\n",
        "Write a program to calcuate the difference (in minutes and seconds) between two athletes' race times given in minutes and seconds"
      ]
    },
    {
      "cell_type": "code",
      "metadata": {
        "id": "A-weKgjC_3N6"
      },
      "source": [
        ""
      ],
      "execution_count": null,
      "outputs": []
    },
    {
      "cell_type": "markdown",
      "metadata": {
        "id": "jlEdjicz_2IH"
      },
      "source": [
        ""
      ]
    },
    {
      "cell_type": "markdown",
      "metadata": {
        "id": "yXx5wumkAMlS"
      },
      "source": [
        "# Question 10\n",
        "Write a Python program to swap two variables"
      ]
    },
    {
      "cell_type": "code",
      "metadata": {
        "id": "g9pHMcChARE4"
      },
      "source": [
        ""
      ],
      "execution_count": null,
      "outputs": []
    }
  ]
}